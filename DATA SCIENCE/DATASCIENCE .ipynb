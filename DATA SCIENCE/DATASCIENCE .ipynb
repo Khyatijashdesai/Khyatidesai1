{
 "cells": [
  {
   "cell_type": "code",
   "execution_count": 2,
   "id": "5ff18c64",
   "metadata": {
    "scrolled": true
   },
   "outputs": [
    {
     "name": "stdout",
     "output_type": "stream",
     "text": [
      "Khyati Desai\n"
     ]
    }
   ],
   "source": [
    "print('Khyati Desai')"
   ]
  },
  {
   "cell_type": "markdown",
   "id": "cbb7a3c0",
   "metadata": {},
   "source": [
    "Khyati Desai"
   ]
  },
  {
   "cell_type": "code",
   "execution_count": 1,
   "id": "7400249b",
   "metadata": {},
   "outputs": [
    {
     "name": "stdout",
     "output_type": "stream",
     "text": [
      "Hello Data Science\n"
     ]
    }
   ],
   "source": [
    "print('Hello Data Science')"
   ]
  }
 ],
 "metadata": {
  "kernelspec": {
   "display_name": "Python 3 (ipykernel)",
   "language": "python",
   "name": "python3"
  },
  "language_info": {
   "codemirror_mode": {
    "name": "ipython",
    "version": 3
   },
   "file_extension": ".py",
   "mimetype": "text/x-python",
   "name": "python",
   "nbconvert_exporter": "python",
   "pygments_lexer": "ipython3",
   "version": "3.11.4"
  }
 },
 "nbformat": 4,
 "nbformat_minor": 5
}
